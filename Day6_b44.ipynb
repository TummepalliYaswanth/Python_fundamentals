{
 "cells": [
  {
   "cell_type": "code",
   "execution_count": null,
   "metadata": {},
   "outputs": [],
   "source": [
    "#continutation with lists"
   ]
  },
  {
   "cell_type": "code",
   "execution_count": 7,
   "metadata": {},
   "outputs": [],
   "source": [
    "students=['ranga','ravi','mohan','raghu','rajesh','ramesh','rakesh','ajith']"
   ]
  },
  {
   "cell_type": "code",
   "execution_count": 17,
   "metadata": {},
   "outputs": [
    {
     "name": "stdout",
     "output_type": "stream",
     "text": [
      "['ranga', 'ravi', 'mohan', 'raghu', 'rajesh', 'ramesh', 'rakesh', 'ajith']\n"
     ]
    }
   ],
   "source": [
    "print(students)"
   ]
  },
  {
   "cell_type": "code",
   "execution_count": 9,
   "metadata": {},
   "outputs": [
    {
     "data": {
      "text/plain": [
       "list"
      ]
     },
     "execution_count": 9,
     "metadata": {},
     "output_type": "execute_result"
    }
   ],
   "source": [
    "type(students)"
   ]
  },
  {
   "cell_type": "code",
   "execution_count": null,
   "metadata": {},
   "outputs": [],
   "source": [
    "#apprecition for above students"
   ]
  },
  {
   "cell_type": "code",
   "execution_count": 19,
   "metadata": {},
   "outputs": [
    {
     "name": "stdout",
     "output_type": "stream",
     "text": [
      "keep up the good work,Ranga\n"
     ]
    }
   ],
   "source": [
    "message=f\"keep up the good work,{students[0].title()}\"\n",
    "print(message)"
   ]
  },
  {
   "cell_type": "code",
   "execution_count": 20,
   "metadata": {},
   "outputs": [
    {
     "name": "stdout",
     "output_type": "stream",
     "text": [
      "keep up the good work,Ravi\n"
     ]
    }
   ],
   "source": [
    "message=f\"keep up the good work,{students[1].title()}\"\n",
    "print(message)"
   ]
  },
  {
   "cell_type": "code",
   "execution_count": null,
   "metadata": {},
   "outputs": [],
   "source": []
  },
  {
   "cell_type": "code",
   "execution_count": null,
   "metadata": {},
   "outputs": [],
   "source": [
    "introduction to for loops:-------> here understanding the loop statements"
   ]
  },
  {
   "cell_type": "code",
   "execution_count": null,
   "metadata": {},
   "outputs": [],
   "source": [
    "#genral syntax for loop:"
   ]
  },
  {
   "cell_type": "code",
   "execution_count": null,
   "metadata": {},
   "outputs": [],
   "source": [
    "for tempvar in manivar(students):\n",
    "    print(tempvar)"
   ]
  },
  {
   "cell_type": "code",
   "execution_count": 24,
   "metadata": {},
   "outputs": [
    {
     "name": "stdout",
     "output_type": "stream",
     "text": [
      "keep up good work,Ranga\n",
      "keep up good work,Ravi\n",
      "keep up good work,Mohan\n",
      "keep up good work,Raghu\n",
      "keep up good work,Rajesh\n",
      "keep up good work,Ramesh\n",
      "keep up good work,Rakesh\n",
      "keep up good work,Ajith\n"
     ]
    }
   ],
   "source": [
    "for x in students :\n",
    "    print(f'keep up good work,{x.title()}')"
   ]
  },
  {
   "cell_type": "code",
   "execution_count": 25,
   "metadata": {},
   "outputs": [
    {
     "name": "stdout",
     "output_type": "stream",
     "text": [
      "keep up good work,Ranga\n",
      "all the best for your future may your dreams come true,Ranga\n",
      "keep up good work,Ravi\n",
      "all the best for your future may your dreams come true,Ravi\n",
      "keep up good work,Mohan\n",
      "all the best for your future may your dreams come true,Mohan\n",
      "keep up good work,Raghu\n",
      "all the best for your future may your dreams come true,Raghu\n",
      "keep up good work,Rajesh\n",
      "all the best for your future may your dreams come true,Rajesh\n",
      "keep up good work,Ramesh\n",
      "all the best for your future may your dreams come true,Ramesh\n",
      "keep up good work,Rakesh\n",
      "all the best for your future may your dreams come true,Rakesh\n",
      "keep up good work,Ajith\n",
      "all the best for your future may your dreams come true,Ajith\n"
     ]
    }
   ],
   "source": [
    "for x in students :\n",
    "    print(f'keep up good work,{x.title()}')\n",
    "    print(f'all the best for your future may your dreams come true,{x.title()}')"
   ]
  },
  {
   "cell_type": "code",
   "execution_count": 28,
   "metadata": {},
   "outputs": [
    {
     "name": "stdout",
     "output_type": "stream",
     "text": [
      "keep up good work,Ranga\n",
      "all the best for your future may your dreams come true,Ranga.\n",
      "\n",
      "keep up good work,Ravi\n",
      "all the best for your future may your dreams come true,Ravi.\n",
      "\n",
      "keep up good work,Mohan\n",
      "all the best for your future may your dreams come true,Mohan.\n",
      "\n",
      "keep up good work,Raghu\n",
      "all the best for your future may your dreams come true,Raghu.\n",
      "\n",
      "keep up good work,Rajesh\n",
      "all the best for your future may your dreams come true,Rajesh.\n",
      "\n",
      "keep up good work,Ramesh\n",
      "all the best for your future may your dreams come true,Ramesh.\n",
      "\n",
      "keep up good work,Rakesh\n",
      "all the best for your future may your dreams come true,Rakesh.\n",
      "\n",
      "keep up good work,Ajith\n",
      "all the best for your future may your dreams come true,Ajith.\n",
      "\n"
     ]
    }
   ],
   "source": [
    "for x in students :\n",
    "    print(f'keep up good work,{x.title()}')\n",
    "    print(f'all the best for your future may your dreams come true,{x.title()}.\\n')"
   ]
  },
  {
   "cell_type": "code",
   "execution_count": 32,
   "metadata": {},
   "outputs": [
    {
     "name": "stdout",
     "output_type": "stream",
     "text": [
      "keep up good work,Ranga\n",
      "all the best for your future may your dreams come true,Ranga.\n",
      "\n",
      "keep up good work,Ravi\n",
      "all the best for your future may your dreams come true,Ravi.\n",
      "\n",
      "keep up good work,Mohan\n",
      "all the best for your future may your dreams come true,Mohan.\n",
      "\n",
      "keep up good work,Raghu\n",
      "all the best for your future may your dreams come true,Raghu.\n",
      "\n",
      "keep up good work,Rajesh\n",
      "all the best for your future may your dreams come true,Rajesh.\n",
      "\n",
      "keep up good work,Ramesh\n",
      "all the best for your future may your dreams come true,Ramesh.\n",
      "\n",
      "keep up good work,Rakesh\n",
      "all the best for your future may your dreams come true,Rakesh.\n",
      "\n",
      "keep up good work,Ajith\n",
      "all the best for your future may your dreams come true,Ajith.\n",
      "\n",
      "thank you all showing interst in pyton\n"
     ]
    }
   ],
   "source": [
    "#WRITING in the loop _______>applied to all elements\n",
    "#WRITING outside  the loop -----------> only once\n",
    "\n",
    "\n",
    "\n",
    "for x in students :\n",
    "    print(f'keep up good work,{x.title()}')\n",
    "    print(f'all the best for your future may your dreams come true,{x.title()}.\\n')\n",
    "print('thank you all showing interst in pyton')    "
   ]
  },
  {
   "cell_type": "code",
   "execution_count": null,
   "metadata": {},
   "outputs": [],
   "source": [
    "#INTRODUCTION TO RANGE FUNCTION\n",
    "#i want to pri"
   ]
  },
  {
   "cell_type": "code",
   "execution_count": 34,
   "metadata": {},
   "outputs": [
    {
     "name": "stdout",
     "output_type": "stream",
     "text": [
      "[0, 1, 2, 3, 4, 5, 6, 7, 8, 9, 10, 11, 12, 13, 14, 15, 16, 17, 18, 19]\n"
     ]
    }
   ],
   "source": [
    "numbers=list(range(0,20))\n",
    "print(numbers)"
   ]
  },
  {
   "cell_type": "code",
   "execution_count": null,
   "metadata": {},
   "outputs": [],
   "source": [
    "#last value is always excluisive"
   ]
  },
  {
   "cell_type": "code",
   "execution_count": null,
   "metadata": {},
   "outputs": [],
   "source": [
    "#i want to print even numebers"
   ]
  },
  {
   "cell_type": "code",
   "execution_count": 35,
   "metadata": {},
   "outputs": [],
   "source": [
    "even_numbers=list(range(2,30,2))"
   ]
  },
  {
   "cell_type": "code",
   "execution_count": 36,
   "metadata": {},
   "outputs": [
    {
     "name": "stdout",
     "output_type": "stream",
     "text": [
      "[2, 4, 6, 8, 10, 12, 14, 16, 18, 20, 22, 24, 26, 28]\n"
     ]
    }
   ],
   "source": [
    "print(even_numbers)"
   ]
  },
  {
   "cell_type": "code",
   "execution_count": 47,
   "metadata": {},
   "outputs": [],
   "source": [
    "odd_numbers=list(range(1,30,2))"
   ]
  },
  {
   "cell_type": "code",
   "execution_count": 48,
   "metadata": {},
   "outputs": [
    {
     "name": "stdout",
     "output_type": "stream",
     "text": [
      "[1, 3, 5, 7, 9, 11, 13, 15, 17, 19, 21, 23, 25, 27, 29]\n"
     ]
    }
   ],
   "source": [
    "print(odd_numbers)"
   ]
  },
  {
   "cell_type": "code",
   "execution_count": null,
   "metadata": {},
   "outputs": [],
   "source": []
  },
  {
   "cell_type": "code",
   "execution_count": null,
   "metadata": {},
   "outputs": [],
   "source": []
  },
  {
   "cell_type": "code",
   "execution_count": null,
   "metadata": {},
   "outputs": [],
   "source": []
  },
  {
   "cell_type": "code",
   "execution_count": null,
   "metadata": {},
   "outputs": [],
   "source": []
  }
 ],
 "metadata": {
  "kernelspec": {
   "display_name": "Python 3",
   "language": "python",
   "name": "python3"
  },
  "language_info": {
   "codemirror_mode": {
    "name": "ipython",
    "version": 3
   },
   "file_extension": ".py",
   "mimetype": "text/x-python",
   "name": "python",
   "nbconvert_exporter": "python",
   "pygments_lexer": "ipython3",
   "version": "3.8.5"
  }
 },
 "nbformat": 4,
 "nbformat_minor": 4
}
